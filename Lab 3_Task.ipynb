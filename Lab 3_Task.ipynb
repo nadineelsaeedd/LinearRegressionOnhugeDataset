{
 "cells": [
  {
   "cell_type": "markdown",
   "id": "66d46355",
   "metadata": {},
   "source": [
    "**Import the relevant python libraries for the analysis**"
   ]
  },
  {
   "cell_type": "code",
   "execution_count": null,
   "id": "c2de3bd9",
   "metadata": {},
   "outputs": [],
   "source": []
  },
  {
   "cell_type": "markdown",
   "id": "ff1e6e80",
   "metadata": {},
   "source": [
    "**Load the dataset from titanic.csv**"
   ]
  },
  {
   "cell_type": "code",
   "execution_count": null,
   "id": "7688f690",
   "metadata": {},
   "outputs": [],
   "source": []
  },
  {
   "cell_type": "markdown",
   "id": "7d903f72",
   "metadata": {},
   "source": [
    "**Display the first 6 rows of the dataset**"
   ]
  },
  {
   "cell_type": "code",
   "execution_count": null,
   "id": "de4fd2a9",
   "metadata": {},
   "outputs": [],
   "source": []
  },
  {
   "cell_type": "markdown",
   "id": "06d330bf",
   "metadata": {},
   "source": [
    "**Display How many rows and columns in the dataset**"
   ]
  },
  {
   "cell_type": "code",
   "execution_count": null,
   "id": "8f7a2780",
   "metadata": {},
   "outputs": [],
   "source": []
  },
  {
   "cell_type": "markdown",
   "id": "df6db721",
   "metadata": {},
   "source": [
    "**What is the datatype of Pclass?**"
   ]
  },
  {
   "cell_type": "code",
   "execution_count": null,
   "id": "5f3e3549",
   "metadata": {},
   "outputs": [],
   "source": []
  },
  {
   "cell_type": "markdown",
   "id": "cd281717",
   "metadata": {},
   "source": [
    "**How many unique values in Embarked column?**"
   ]
  },
  {
   "cell_type": "code",
   "execution_count": null,
   "id": "ebbd5d9b",
   "metadata": {},
   "outputs": [],
   "source": []
  },
  {
   "cell_type": "markdown",
   "id": "fb5283e2",
   "metadata": {},
   "source": [
    "**Check if there is any missing value in the dataset**   \n",
    "**Also, handle them with the most suitable option to each column or row**"
   ]
  },
  {
   "cell_type": "code",
   "execution_count": null,
   "id": "f190d28d",
   "metadata": {},
   "outputs": [],
   "source": []
  },
  {
   "cell_type": "code",
   "execution_count": null,
   "id": "47cd1640",
   "metadata": {},
   "outputs": [],
   "source": []
  },
  {
   "cell_type": "code",
   "execution_count": null,
   "id": "acfadbcb",
   "metadata": {},
   "outputs": [],
   "source": []
  },
  {
   "cell_type": "markdown",
   "id": "bd719dac",
   "metadata": {},
   "source": [
    "**Handle any wrong datatype or data values**"
   ]
  },
  {
   "cell_type": "code",
   "execution_count": null,
   "id": "2d702708",
   "metadata": {},
   "outputs": [],
   "source": []
  },
  {
   "cell_type": "code",
   "execution_count": null,
   "id": "3d37128e",
   "metadata": {},
   "outputs": [],
   "source": []
  },
  {
   "cell_type": "markdown",
   "id": "5f9ec16e",
   "metadata": {},
   "source": [
    "**What is the relation between Pclass and Age?**"
   ]
  },
  {
   "cell_type": "code",
   "execution_count": null,
   "id": "74c60fbc",
   "metadata": {},
   "outputs": [],
   "source": []
  },
  {
   "cell_type": "code",
   "execution_count": null,
   "id": "76348e8a",
   "metadata": {},
   "outputs": [],
   "source": []
  },
  {
   "cell_type": "markdown",
   "id": "648feb00",
   "metadata": {},
   "source": [
    "**Is there any relation between Age and if someone will be Survived or not??**"
   ]
  },
  {
   "cell_type": "code",
   "execution_count": null,
   "id": "f4a96def",
   "metadata": {},
   "outputs": [],
   "source": []
  }
 ],
 "metadata": {
  "kernelspec": {
   "display_name": "Python 3 (ipykernel)",
   "language": "python",
   "name": "python3"
  },
  "language_info": {
   "codemirror_mode": {
    "name": "ipython",
    "version": 3
   },
   "file_extension": ".py",
   "mimetype": "text/x-python",
   "name": "python",
   "nbconvert_exporter": "python",
   "pygments_lexer": "ipython3",
   "version": "3.9.7"
  }
 },
 "nbformat": 4,
 "nbformat_minor": 5
}
